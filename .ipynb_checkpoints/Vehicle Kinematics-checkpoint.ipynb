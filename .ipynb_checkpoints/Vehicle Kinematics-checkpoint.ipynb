{
 "cells": [
  {
   "cell_type": "markdown",
   "metadata": {},
   "source": [
    "# Vehicle Kinematics and Simple LQR Control"
   ]
  },
  {
   "cell_type": "markdown",
   "metadata": {},
   "source": [
    "![title](bicyclemodel.png)"
   ]
  },
  {
   "cell_type": "markdown",
   "metadata": {},
   "source": [
    "Consdier the kinematic bicycle model of a car shown above. It allows us to model the position of a car from steering angle δ and longitudinal velocity.\n",
    "In the model x,y are the coordinates of the center of mass in the world coordinate system, $\\psi$ is the heading angle, and δ is the steering angle.\n",
    "\n",
    "Importantly this is a purely kinematic model and will only be valid for relatively small velocities and steering angles. Nevertheless, it is a useful tool for developing some intuition about how a vehicle moves due to its nonholonomic constraints. "
   ]
  },
  {
   "cell_type": "markdown",
   "metadata": {},
   "source": [
    "Lets first write down the state space equations for this model, as a function of time, and its states"
   ]
  },
  {
   "cell_type": "markdown",
   "metadata": {},
   "source": [
    "$$ \\begin{pmatrix}\\dot{x}\\\\\\dot{y}\\\\\\dot{\\psi}\\end{pmatrix} =  \\begin{pmatrix}v/L_1 (L_1 cos(\\psi) - L_2 sin(\\psi)tan(\\delta))  \\\\v/L_1 (L_1 sin(\\psi) + L_2 cos(\\psi)tan(\\delta)) \n",
    " \\\\v/L_1 tan(\\delta)\n",
    " \\end{pmatrix} $$"
   ]
  },
  {
   "cell_type": "markdown",
   "metadata": {},
   "source": [
    "It should be evident that the steering angle and velocity are our inputs with which to control the vehicle. So let's next define the velocity and steering angle as simple functions of time"
   ]
  },
  {
   "cell_type": "markdown",
   "metadata": {},
   "source": [
    "$$ v(t)= t $$\n",
    "$$\\delta(t) = sin(\\pi t) $$"
   ]
  },
  {
   "cell_type": "markdown",
   "metadata": {},
   "source": [
    "Now we're finally ready to write some python code to simulate this ODE"
   ]
  },
  {
   "cell_type": "code",
   "execution_count": 1,
   "metadata": {},
   "outputs": [],
   "source": [
    "import numpy as np\n",
    "import matplotlib.pyplot as plt\n",
    "import scipy.integrate as integrate\n",
    "L1=3 #meters\n",
    "L2=1.5 #meters"
   ]
  },
  {
   "cell_type": "code",
   "execution_count": 2,
   "metadata": {},
   "outputs": [],
   "source": [
    "#inline functions for v and delta\n",
    "v = lambda t: t\n",
    "delta = lambda t: np.sin(np.pi*t)"
   ]
  },
  {
   "cell_type": "code",
   "execution_count": 3,
   "metadata": {},
   "outputs": [],
   "source": [
    "def bike_kinematic(Z,t):\n",
    "    \n",
    "    xdot= (v(t)/L1)*((L1*np.cos(Z[2]))-L2*np.sin(Z[2])*np.tan(delta(t)))\n",
    "    ydot = (v(t)/L1)*((L1*np.sin(Z[2]))+L2*np.cos(Z[2])*np.tan(delta(t)))\n",
    "    psidot = (v(t)/L1)*np.tan(delta(t))\n",
    "    zdot = [xdot, ydot, psidot]\n",
    "    \n",
    "    return zdot\n"
   ]
  },
  {
   "cell_type": "code",
   "execution_count": 4,
   "metadata": {},
   "outputs": [],
   "source": [
    "#simulate for 5 seconds at .01 second intervals\n",
    "T=np.linspace(0,5,501)\n",
    "\n",
    "#initial conditions\n",
    "Z0=[ 0., 0., 0.]"
   ]
  },
  {
   "cell_type": "code",
   "execution_count": 5,
   "metadata": {},
   "outputs": [],
   "source": [
    "Z=integrate.odeint(bike_kinematic ,Z0, T)"
   ]
  },
  {
   "cell_type": "code",
   "execution_count": 6,
   "metadata": {},
   "outputs": [
    {
     "data": {
      "text/plain": [
       "[<matplotlib.lines.Line2D at 0x7efcd4691a58>]"
      ]
     },
     "execution_count": 6,
     "metadata": {},
     "output_type": "execute_result"
    },
    {
     "data": {
      "image/png": "[encoded data removed]",
      "text/plain": [
       "<matplotlib.figure.Figure at 0x7efcd671eac8>"
      ]
     },
     "metadata": {
      "needs_background": "light"
     },
     "output_type": "display_data"
    }
   ],
   "source": [
    "plt.plot(Z[:,0],Z[:,1])"
   ]
  },
  {
   "cell_type": "markdown",
   "metadata": {},
   "source": [
    "## LQR Feedback Control\n",
    "\n",
    "The system above seems fairly simple, can we design a LQR control to following the trajectory given there a different initial condition and external distrubance? Certainly, although we need to acknowledge that the system is non-linear so we need to *linearize about the trajectory*. Hopefully the differences between the states and desired trajectory is small enough that the assumption is valid. \n",
    "\n",
    "Importantly, this system will be a linear time-varying LTV. The state and input matrices are functions of time which means the Kalman gain produced will also be a function of time. "
   ]
  },
  {
   "cell_type": "markdown",
   "metadata": {},
   "source": [
    "Rather than going through the derivations of the formulation for solving the Ricatti equation I'm embedding the link below \n",
    "https://people.eecs.berkeley.edu/~pabbeel/cs287-fa12/slides/LQR.pdf\n",
    "\n",
    "https://stanford.edu/class/ee363/lectures/dlqr.pdf\n",
    "\n",
    "The upshot is that we would conitunous replan over a horizon h, *receding horizon control*, that is as shown below we start at the future and work our way back to the present, recurvively solving for K. "
   ]
  },
  {
   "cell_type": "markdown",
   "metadata": {},
   "source": [
    "## Linearized State and Input Matrices\n",
    "\n",
    "$$  \\begin{pmatrix}\\delta \\dot{x}\\\\\\delta \\dot{y}\\\\\\delta \\dot{\\psi}\\end{pmatrix}=\n",
    " A(t) \\begin{pmatrix}\\delta x\\\\\\delta y\\\\\\delta \\psi\\end{pmatrix} +B(t)  \\begin{pmatrix}\\delta v \\\\\\delta \\gamma \\end{pmatrix} $$\n"
   ]
  },
  {
   "cell_type": "markdown",
   "metadata": {},
   "source": [
    "Finding The A and B matrices is actually a straight forward calculation of the Jacobian; rather than writing it out in Latex I present them below in python. Since I'm using $\\delta$ to denote the change from our trajectory I will use $\\gamma$ to represent wheel angle"
   ]
  },
  {
   "cell_type": "code",
   "execution_count": 68,
   "metadata": {},
   "outputs": [],
   "source": [
    "gamma = lambda t: np.sin(np.pi*t) #redefine as gamma\n",
    "psi = lambda t: (v(t)/L1)*np.tan(gamma(t))*t;\n",
    "\n",
    "def Afun(t):\n",
    "    \n",
    "    A=np.matrix([[0., 0., -v(t)*np.sin(psi(t))-(v(t)*L2/L1)*np.cos(psi(t))*np.tan(gamma(t))], \\\n",
    "                 [0., 0.,  v(t)*np.cos(psi(t))-(v(t)*L2/L1)*np.sin(psi(t))*np.tan(gamma(t))], \\\n",
    "                 [0., 0.,                       0.                    ]])\n",
    "    return A\n",
    "    \n",
    "    \n",
    "def Bfun(t):\n",
    "    \n",
    "    B = np.matrix([[1/L1*(L1*np.cos(psi(t))-L2*np.sin(psi(t))*np.tan(gamma(t))), -np.cos(np.pi*t)*(v(t)*L2*np.sin(psi(t)))/(L1*np.cos(gamma(t))**2)], \\\n",
    "                    [1/L1*(L1*np.sin(psi(t))+L2*np.cos(psi(t))*np.tan(gamma(t))), np.cos(np.pi*t)*(v(t)*L2*np.cos(psi(t)))/(L1*np.cos(gamma(t))**2)],\\\n",
    "                    [1/L1*np.tan(gamma(t)), v(t)/(L1*np.cos(gamma(t))**2)]])\n",
    "    \n",
    "    return B\n",
    "    "
   ]
  },
  {
   "cell_type": "markdown",
   "metadata": {},
   "source": [
    "Now I will define my LQR LTV function which minimizes the costs function \n",
    "\n",
    "$J = \\int (x^{T} Q x + u^{T} R u) dt$\n",
    "\n",
    "\n",
    "by solving the Ricatti equation"
   ]
  },
  {
   "cell_type": "code",
   "execution_count": 74,
   "metadata": {},
   "outputs": [],
   "source": [
    "Q = np.diag([1.0, 1.0, 1.0])\n",
    "\n",
    "R =np.diag([1.0, 1.0])\n",
    "\n",
    "def LTV_LQR(AFun,BFun,Q,R,tSpan):\n",
    "    nSteps = len(tSpan)\n",
    "\n",
    "    #initialize matrices to hold covariance and gain\n",
    "    P = np.zeros((Q.shape[0],Q.shape[1],nSteps))\n",
    "    K= np.zeros((len(R),len(Q), nSteps))\n",
    "    t = lambda i: tSpan[i]\n",
    "    \n",
    "    for i in range(nSteps-2,0,-1):\n",
    "        #start at nSteps-1 go to step 0\n",
    "        A_ = AFun(t(i+1));\n",
    "        B_ = BFun(t(i+1));\n",
    "        P_ = P[:,:,i+1];\n",
    "        \n",
    "        temp1 = np.linalg.lstsq(R,(B_.transpose()*P_))\n",
    "        P[:,:,i] = P_ + (tSpan[i+1]-tSpan[i]) * ( P_*A_ + A_.transpose()*P_ - P_*B_*temp1[0] + Q)\n",
    "        temp2 = np.linalg.lstsq(R,(B_.transpose()*P_))\n",
    "        K[:,:,i] = temp2[0]\n",
    "        \n",
    "    return [K, P]"
   ]
  },
  {
   "cell_type": "markdown",
   "metadata": {},
   "source": [
    "And solving for the gains and covariance matrices"
   ]
  },
  {
   "cell_type": "code",
   "execution_count": 75,
   "metadata": {},
   "outputs": [],
   "source": [
    "[K,P] = LTV_LQR(Afun,Bfun,Q,R,T)\n"
   ]
  },
  {
   "cell_type": "markdown",
   "metadata": {},
   "source": [
    "No we can simulate following the original trajectory with a different initial condition and some noise using either the 4th order Runga Kutta or simply Euler integration "
   ]
  },
  {
   "cell_type": "code",
   "execution_count": 77,
   "metadata": {},
   "outputs": [],
   "source": [
    "x=np.array(([0.3, 1, 0.2]))\n",
    "\n",
    "Zaug= np.zeros((len(x),len(T)))\n",
    "gam = np.zeros(len(T))\n",
    "Zaug[:,0]=x\n",
    "dt=T[1]-T[0];\n",
    "\n",
    "for i in range(0,len(T)-1):\n",
    "    f = np.dot((Afun(T[i])-Bfun(T[i])*K[:,:,i]),x)\n",
    "    \n",
    "    Zaug[:,i+1]=Zaug[:,i]+f*dt\n",
    "    x=Zaug[:,i+1]+np.random.normal(0,.2,3).transpose()"
   ]
  },
  {
   "cell_type": "code",
   "execution_count": 90,
   "metadata": {},
   "outputs": [
    {
     "data": {
      "image/png": "[encoded data removed]",
      "text/plain": [
       "<matplotlib.figure.Figure at 0x7efcd42ec6d8>"
      ]
     },
     "metadata": {
      "needs_background": "light"
     },
     "output_type": "display_data"
    }
   ],
   "source": [
    "Z2=Zaug.transpose()+Z\n",
    "plt.plot(Z2[:,0],Z2[:,1])\n",
    "plt.plot(Z[:,0],Z[:,1])\n",
    "plt.axis('equal')\n",
    "\n",
    "for i in range(0,len(T)-1,20):\n",
    "    x=Z2[i,0]\n",
    "    y=Z2[i,1]\n",
    "    psi = Z2[i,2]\n",
    "    plt.quiver(x,y,.5*np.cos(psi),.5*np.sin(psi), scale=10,width=0.004, headwidth=2.,headlength=2.5)\n",
    "    \n"
   ]
  },
  {
   "cell_type": "markdown",
   "metadata": {},
   "source": [
    "# Summary\n",
    "\n",
    "There are several interesting things to note about this result. \n",
    "1. As expected the actual trajectory follows the desired trajectory quite well despite different initial conditions and a moderal amount of noise. But this may not really be realistic, the final 'simulation' was performed with the linearized kinematic model, this is reasonable if my maneuver stays in the linear regime. Below I show what happens with the full non-linear kinematic model. Unsurprisingly its performance is quite worse.  \n",
    "\n",
    "2. We are calculating the steering and velocity _error_ values about the linearized model; the actual steering and velocity values need to be added to get the full motion of the vehicle.\n",
    "\n",
    "3. This model has no dynamics and no concept of momentum so the vehicle can stop instantly and change directions much more quickly than is actually feasible. To account for this we can expand our model and add adition integrators to our control variables. As an example we do not directly control velocity, we control acceleration/torque. In the next model we add dynamics and explore how that what we explored here. \n",
    "\n",
    "Finally it should be said that there are many ways to approach the problem of feedback control, perhaps one of the most effective and least sexy is a PID controller with gain scheduling. Given enough time spent tuning you can acheive quite high performance and it is what many in the actual automotive industry use to tackle a variety of difficult problems. "
   ]
  },
  {
   "cell_type": "markdown",
   "metadata": {},
   "source": [
    "![title](nonlinear_kinematic.png)"
   ]
  }
 ],
 "metadata": {
  "kernelspec": {
   "display_name": "Python 3",
   "language": "python",
   "name": "python3"
  },
  "language_info": {
   "codemirror_mode": {
    "name": "ipython",
    "version": 3
   },
   "file_extension": ".py",
   "mimetype": "text/x-python",
   "name": "python",
   "nbconvert_exporter": "python",
   "pygments_lexer": "ipython3",
   "version": "3.5.2"
  },
  "widgets": {
   "state": {},
   "version": "1.1.2"
  }
 },
 "nbformat": 4,
 "nbformat_minor": 2
}
